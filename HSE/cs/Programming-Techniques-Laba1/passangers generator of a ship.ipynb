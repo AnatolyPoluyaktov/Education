{
 "cells": [
  {
   "cell_type": "code",
   "execution_count": 3,
   "metadata": {},
   "outputs": [],
   "source": [
    "#ФИО пассажира, номер каюты, тип каюты (люкс, 1, 2, 3 классы), порт назначения \n",
    "import names\n",
    "import random\n",
    "capacity=[100,500,1000,10000,15000,20000,30000,50000,70000,100000]\n",
    "fileCities = open(\"cities.txt\", \"r\") \n",
    "cities=fileCities.readlines() # массив портов\n",
    "cities = [line.rstrip() for line in cities]\n",
    "fileCities.close()\n",
    "\n",
    "for i in capacity:\n",
    "    filename = \"dataset\" + str(i) + \".csv\"\n",
    "    f = open(filename, 'w')\n",
    "    for j in range(i):\n",
    "        FullName = names.get_last_name()+\",\"+ names.get_first_name() + \",\" + names.get_first_name()\n",
    "        CabinNumber = random.randint(100,500)\n",
    "        CabinType = random.randint(0, 3)\n",
    "        Port=random.choice(cities)\n",
    "        f.write(FullName + \",\" + str(CabinNumber) + \",\" + str(CabinType) + \",\" + Port +'\\n')\n",
    "    f.close()\n",
    "\n",
    "        \n"
   ]
  },
  {
   "cell_type": "code",
   "execution_count": null,
   "metadata": {},
   "outputs": [],
   "source": []
  }
 ],
 "metadata": {
  "kernelspec": {
   "display_name": "Python 3",
   "language": "python",
   "name": "python3"
  },
  "language_info": {
   "codemirror_mode": {
    "name": "ipython",
    "version": 3
   },
   "file_extension": ".py",
   "mimetype": "text/x-python",
   "name": "python",
   "nbconvert_exporter": "python",
   "pygments_lexer": "ipython3",
   "version": "3.7.4"
  }
 },
 "nbformat": 4,
 "nbformat_minor": 2
}

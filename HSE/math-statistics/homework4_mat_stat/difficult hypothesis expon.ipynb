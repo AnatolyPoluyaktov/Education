{
 "cells": [
  {
   "cell_type": "code",
   "execution_count": 49,
   "metadata": {},
   "outputs": [],
   "source": [
    "import math\n",
    "import numpy as np\n",
    "import matplotlib.pyplot as plt\n",
    "import seaborn as sns\n",
    "import pandas as pd\n",
    "\n",
    "\n",
    "def exp_m(n,lam):\n",
    "    T_m = []\n",
    "    la = lam\n",
    "    for i in range(n):\n",
    "        T = np.random.random_sample() #случайная величина из равномерного распределения\n",
    "        xi = -math.log(T)/la #случайная величина распределенная экспоненциально(получена с помощью обратной функции)\n",
    "        T_m.append(xi)\n",
    "    return(T_m)"
   ]
  },
  {
   "cell_type": "code",
   "execution_count": 50,
   "metadata": {},
   "outputs": [],
   "source": [
    "g1=exp_m(100000,0.7)"
   ]
  },
  {
   "cell_type": "code",
   "execution_count": 51,
   "metadata": {},
   "outputs": [],
   "source": [
    "hist, bin_edges = np.histogram(g1, bins = 'doane')"
   ]
  },
  {
   "cell_type": "code",
   "execution_count": 52,
   "metadata": {},
   "outputs": [
    {
     "data": {
      "text/plain": [
       "array([39404, 23772, 14454,  8826,  5312,  3306,  1925,  1182,   702,\n",
       "         446,   261,   163,    94,    63,    41,    20,    12,     6,\n",
       "           4,     4,     1,     1,     0,     0,     0,     1],\n",
       "      dtype=int64)"
      ]
     },
     "execution_count": 52,
     "metadata": {},
     "output_type": "execute_result"
    }
   ],
   "source": [
    "hist"
   ]
  },
  {
   "cell_type": "code",
   "execution_count": 53,
   "metadata": {},
   "outputs": [
    {
     "data": {
      "text/plain": [
       "array([1.36606348e-05, 7.15972789e-01, 1.43193192e+00, 2.14789104e+00,\n",
       "       2.86385017e+00, 3.57980930e+00, 4.29576843e+00, 5.01172756e+00,\n",
       "       5.72768668e+00, 6.44364581e+00, 7.15960494e+00, 7.87556407e+00,\n",
       "       8.59152320e+00, 9.30748232e+00, 1.00234415e+01, 1.07394006e+01,\n",
       "       1.14553597e+01, 1.21713188e+01, 1.28872780e+01, 1.36032371e+01,\n",
       "       1.43191962e+01, 1.50351553e+01, 1.57511145e+01, 1.64670736e+01,\n",
       "       1.71830327e+01, 1.78989919e+01, 1.86149510e+01])"
      ]
     },
     "execution_count": 53,
     "metadata": {},
     "output_type": "execute_result"
    }
   ],
   "source": [
    "bin_edges"
   ]
  },
  {
   "cell_type": "code",
   "execution_count": 54,
   "metadata": {},
   "outputs": [],
   "source": [
    "ar = bin_edges"
   ]
  },
  {
   "cell_type": "code",
   "execution_count": 55,
   "metadata": {},
   "outputs": [],
   "source": [
    "df_exp = pd.DataFrame({'midlle_values': (ar[:-1] + ar[1:])/2})"
   ]
  },
  {
   "cell_type": "code",
   "execution_count": 56,
   "metadata": {},
   "outputs": [],
   "source": [
    "df_exp['number_in_interval'] = hist"
   ]
  },
  {
   "cell_type": "code",
   "execution_count": 57,
   "metadata": {},
   "outputs": [
    {
     "data": {
      "text/plain": [
       "0.6985465693350361"
      ]
     },
     "execution_count": 57,
     "metadata": {},
     "output_type": "execute_result"
    }
   ],
   "source": [
    "def omp(x):\n",
    "    return np.mean(x)\n",
    "omp_exp=omp(g1)\n",
    "omp_exp=1/omp_exp\n",
    "omp_exp"
   ]
  },
  {
   "cell_type": "code",
   "execution_count": 58,
   "metadata": {},
   "outputs": [],
   "source": [
    "df_exp['Theor_prob'] =  np.exp(-omp_exp * ar[:-1]) -  np.exp(-omp_exp * ar[1:])"
   ]
  },
  {
   "cell_type": "code",
   "execution_count": 59,
   "metadata": {},
   "outputs": [],
   "source": [
    "df_exp['np_i'] = df_exp['number_in_interval'].sum()*df_exp['Theor_prob']"
   ]
  },
  {
   "cell_type": "code",
   "execution_count": 60,
   "metadata": {},
   "outputs": [],
   "source": [
    "df_exp['n_i-np_i'] = df_exp['number_in_interval'] - df_exp['np_i']\n",
    "df_exp['(n_i-np_i)^2'] = df_exp['n_i-np_i']**2\n",
    "df_exp['(n_i - np_i)^2/np_i'] = df_exp['(n_i-np_i)^2']/df_exp['np_i']"
   ]
  },
  {
   "cell_type": "code",
   "execution_count": 61,
   "metadata": {},
   "outputs": [
    {
     "data": {
      "text/html": [
       "<div>\n",
       "<style scoped>\n",
       "    .dataframe tbody tr th:only-of-type {\n",
       "        vertical-align: middle;\n",
       "    }\n",
       "\n",
       "    .dataframe tbody tr th {\n",
       "        vertical-align: top;\n",
       "    }\n",
       "\n",
       "    .dataframe thead th {\n",
       "        text-align: right;\n",
       "    }\n",
       "</style>\n",
       "<table border=\"1\" class=\"dataframe\">\n",
       "  <thead>\n",
       "    <tr style=\"text-align: right;\">\n",
       "      <th></th>\n",
       "      <th>midlle_values</th>\n",
       "      <th>number_in_interval</th>\n",
       "      <th>Theor_prob</th>\n",
       "      <th>np_i</th>\n",
       "      <th>n_i-np_i</th>\n",
       "      <th>(n_i-np_i)^2</th>\n",
       "      <th>(n_i - np_i)^2/np_i</th>\n",
       "    </tr>\n",
       "  </thead>\n",
       "  <tbody>\n",
       "    <tr>\n",
       "      <td>0</td>\n",
       "      <td>0.357993</td>\n",
       "      <td>39404</td>\n",
       "      <td>0.393545</td>\n",
       "      <td>39354.490938</td>\n",
       "      <td>49.509062</td>\n",
       "      <td>2451.147183</td>\n",
       "      <td>0.062284</td>\n",
       "    </tr>\n",
       "    <tr>\n",
       "      <td>1</td>\n",
       "      <td>1.073952</td>\n",
       "      <td>23772</td>\n",
       "      <td>0.238666</td>\n",
       "      <td>23866.583574</td>\n",
       "      <td>-94.583574</td>\n",
       "      <td>8946.052499</td>\n",
       "      <td>0.374836</td>\n",
       "    </tr>\n",
       "    <tr>\n",
       "      <td>2</td>\n",
       "      <td>1.789911</td>\n",
       "      <td>14454</td>\n",
       "      <td>0.144739</td>\n",
       "      <td>14473.921474</td>\n",
       "      <td>-19.921474</td>\n",
       "      <td>396.865137</td>\n",
       "      <td>0.027419</td>\n",
       "    </tr>\n",
       "    <tr>\n",
       "      <td>3</td>\n",
       "      <td>2.505871</td>\n",
       "      <td>8826</td>\n",
       "      <td>0.087777</td>\n",
       "      <td>8777.729003</td>\n",
       "      <td>48.270997</td>\n",
       "      <td>2330.089143</td>\n",
       "      <td>0.265455</td>\n",
       "    </tr>\n",
       "    <tr>\n",
       "      <td>4</td>\n",
       "      <td>3.221830</td>\n",
       "      <td>5312</td>\n",
       "      <td>0.053233</td>\n",
       "      <td>5323.265474</td>\n",
       "      <td>-11.265474</td>\n",
       "      <td>126.910895</td>\n",
       "      <td>0.023841</td>\n",
       "    </tr>\n",
       "    <tr>\n",
       "      <td>5</td>\n",
       "      <td>3.937789</td>\n",
       "      <td>3306</td>\n",
       "      <td>0.032283</td>\n",
       "      <td>3228.301454</td>\n",
       "      <td>77.698546</td>\n",
       "      <td>6037.064069</td>\n",
       "      <td>1.870043</td>\n",
       "    </tr>\n",
       "    <tr>\n",
       "      <td>6</td>\n",
       "      <td>4.653748</td>\n",
       "      <td>1925</td>\n",
       "      <td>0.019578</td>\n",
       "      <td>1957.807727</td>\n",
       "      <td>-32.807727</td>\n",
       "      <td>1076.346951</td>\n",
       "      <td>0.549772</td>\n",
       "    </tr>\n",
       "    <tr>\n",
       "      <td>7</td>\n",
       "      <td>5.369707</td>\n",
       "      <td>1182</td>\n",
       "      <td>0.011873</td>\n",
       "      <td>1187.315110</td>\n",
       "      <td>-5.315110</td>\n",
       "      <td>28.250395</td>\n",
       "      <td>0.023794</td>\n",
       "    </tr>\n",
       "    <tr>\n",
       "      <td>8</td>\n",
       "      <td>6.085666</td>\n",
       "      <td>702</td>\n",
       "      <td>0.007200</td>\n",
       "      <td>720.048834</td>\n",
       "      <td>-18.048834</td>\n",
       "      <td>325.760399</td>\n",
       "      <td>0.452414</td>\n",
       "    </tr>\n",
       "    <tr>\n",
       "      <td>9</td>\n",
       "      <td>6.801625</td>\n",
       "      <td>446</td>\n",
       "      <td>0.004367</td>\n",
       "      <td>436.674577</td>\n",
       "      <td>9.325423</td>\n",
       "      <td>86.963522</td>\n",
       "      <td>0.199149</td>\n",
       "    </tr>\n",
       "    <tr>\n",
       "      <td>10</td>\n",
       "      <td>7.517585</td>\n",
       "      <td>261</td>\n",
       "      <td>0.002648</td>\n",
       "      <td>264.821880</td>\n",
       "      <td>-3.821880</td>\n",
       "      <td>14.606767</td>\n",
       "      <td>0.055157</td>\n",
       "    </tr>\n",
       "    <tr>\n",
       "      <td>11</td>\n",
       "      <td>8.233544</td>\n",
       "      <td>163</td>\n",
       "      <td>0.001606</td>\n",
       "      <td>160.601583</td>\n",
       "      <td>2.398417</td>\n",
       "      <td>5.752405</td>\n",
       "      <td>0.035818</td>\n",
       "    </tr>\n",
       "    <tr>\n",
       "      <td>12</td>\n",
       "      <td>8.949503</td>\n",
       "      <td>94</td>\n",
       "      <td>0.000974</td>\n",
       "      <td>97.397044</td>\n",
       "      <td>-3.397044</td>\n",
       "      <td>11.539910</td>\n",
       "      <td>0.118483</td>\n",
       "    </tr>\n",
       "    <tr>\n",
       "      <td>13</td>\n",
       "      <td>9.665462</td>\n",
       "      <td>63</td>\n",
       "      <td>0.000591</td>\n",
       "      <td>59.066568</td>\n",
       "      <td>3.933432</td>\n",
       "      <td>15.471891</td>\n",
       "      <td>0.261940</td>\n",
       "    </tr>\n",
       "    <tr>\n",
       "      <td>14</td>\n",
       "      <td>10.381421</td>\n",
       "      <td>41</td>\n",
       "      <td>0.000358</td>\n",
       "      <td>35.820999</td>\n",
       "      <td>5.179001</td>\n",
       "      <td>26.822054</td>\n",
       "      <td>0.748780</td>\n",
       "    </tr>\n",
       "    <tr>\n",
       "      <td>15</td>\n",
       "      <td>11.097380</td>\n",
       "      <td>20</td>\n",
       "      <td>0.000217</td>\n",
       "      <td>21.723693</td>\n",
       "      <td>-1.723693</td>\n",
       "      <td>2.971116</td>\n",
       "      <td>0.136768</td>\n",
       "    </tr>\n",
       "    <tr>\n",
       "      <td>16</td>\n",
       "      <td>11.813339</td>\n",
       "      <td>12</td>\n",
       "      <td>0.000132</td>\n",
       "      <td>13.174362</td>\n",
       "      <td>-1.174362</td>\n",
       "      <td>1.379127</td>\n",
       "      <td>0.104683</td>\n",
       "    </tr>\n",
       "    <tr>\n",
       "      <td>17</td>\n",
       "      <td>12.529298</td>\n",
       "      <td>6</td>\n",
       "      <td>0.000080</td>\n",
       "      <td>7.989610</td>\n",
       "      <td>-1.989610</td>\n",
       "      <td>3.958546</td>\n",
       "      <td>0.495462</td>\n",
       "    </tr>\n",
       "    <tr>\n",
       "      <td>18</td>\n",
       "      <td>13.245258</td>\n",
       "      <td>4</td>\n",
       "      <td>0.000048</td>\n",
       "      <td>4.845309</td>\n",
       "      <td>-0.845309</td>\n",
       "      <td>0.714548</td>\n",
       "      <td>0.147472</td>\n",
       "    </tr>\n",
       "    <tr>\n",
       "      <td>19</td>\n",
       "      <td>13.961217</td>\n",
       "      <td>4</td>\n",
       "      <td>0.000029</td>\n",
       "      <td>2.938444</td>\n",
       "      <td>1.061556</td>\n",
       "      <td>1.126900</td>\n",
       "      <td>0.383502</td>\n",
       "    </tr>\n",
       "    <tr>\n",
       "      <td>20</td>\n",
       "      <td>14.677176</td>\n",
       "      <td>1</td>\n",
       "      <td>0.000018</td>\n",
       "      <td>1.782024</td>\n",
       "      <td>-0.782024</td>\n",
       "      <td>0.611561</td>\n",
       "      <td>0.343183</td>\n",
       "    </tr>\n",
       "    <tr>\n",
       "      <td>21</td>\n",
       "      <td>15.393135</td>\n",
       "      <td>1</td>\n",
       "      <td>0.000011</td>\n",
       "      <td>1.080711</td>\n",
       "      <td>-0.080711</td>\n",
       "      <td>0.006514</td>\n",
       "      <td>0.006028</td>\n",
       "    </tr>\n",
       "    <tr>\n",
       "      <td>22</td>\n",
       "      <td>16.109094</td>\n",
       "      <td>0</td>\n",
       "      <td>0.000007</td>\n",
       "      <td>0.655398</td>\n",
       "      <td>-0.655398</td>\n",
       "      <td>0.429547</td>\n",
       "      <td>0.655398</td>\n",
       "    </tr>\n",
       "    <tr>\n",
       "      <td>23</td>\n",
       "      <td>16.825053</td>\n",
       "      <td>0</td>\n",
       "      <td>0.000004</td>\n",
       "      <td>0.397467</td>\n",
       "      <td>-0.397467</td>\n",
       "      <td>0.157980</td>\n",
       "      <td>0.397467</td>\n",
       "    </tr>\n",
       "    <tr>\n",
       "      <td>24</td>\n",
       "      <td>17.541012</td>\n",
       "      <td>0</td>\n",
       "      <td>0.000002</td>\n",
       "      <td>0.241045</td>\n",
       "      <td>-0.241045</td>\n",
       "      <td>0.058102</td>\n",
       "      <td>0.241045</td>\n",
       "    </tr>\n",
       "    <tr>\n",
       "      <td>25</td>\n",
       "      <td>18.256971</td>\n",
       "      <td>1</td>\n",
       "      <td>0.000001</td>\n",
       "      <td>0.146182</td>\n",
       "      <td>0.853818</td>\n",
       "      <td>0.729006</td>\n",
       "      <td>4.986980</td>\n",
       "    </tr>\n",
       "  </tbody>\n",
       "</table>\n",
       "</div>"
      ],
      "text/plain": [
       "    midlle_values  number_in_interval  Theor_prob          np_i   n_i-np_i  \\\n",
       "0        0.357993               39404    0.393545  39354.490938  49.509062   \n",
       "1        1.073952               23772    0.238666  23866.583574 -94.583574   \n",
       "2        1.789911               14454    0.144739  14473.921474 -19.921474   \n",
       "3        2.505871                8826    0.087777   8777.729003  48.270997   \n",
       "4        3.221830                5312    0.053233   5323.265474 -11.265474   \n",
       "5        3.937789                3306    0.032283   3228.301454  77.698546   \n",
       "6        4.653748                1925    0.019578   1957.807727 -32.807727   \n",
       "7        5.369707                1182    0.011873   1187.315110  -5.315110   \n",
       "8        6.085666                 702    0.007200    720.048834 -18.048834   \n",
       "9        6.801625                 446    0.004367    436.674577   9.325423   \n",
       "10       7.517585                 261    0.002648    264.821880  -3.821880   \n",
       "11       8.233544                 163    0.001606    160.601583   2.398417   \n",
       "12       8.949503                  94    0.000974     97.397044  -3.397044   \n",
       "13       9.665462                  63    0.000591     59.066568   3.933432   \n",
       "14      10.381421                  41    0.000358     35.820999   5.179001   \n",
       "15      11.097380                  20    0.000217     21.723693  -1.723693   \n",
       "16      11.813339                  12    0.000132     13.174362  -1.174362   \n",
       "17      12.529298                   6    0.000080      7.989610  -1.989610   \n",
       "18      13.245258                   4    0.000048      4.845309  -0.845309   \n",
       "19      13.961217                   4    0.000029      2.938444   1.061556   \n",
       "20      14.677176                   1    0.000018      1.782024  -0.782024   \n",
       "21      15.393135                   1    0.000011      1.080711  -0.080711   \n",
       "22      16.109094                   0    0.000007      0.655398  -0.655398   \n",
       "23      16.825053                   0    0.000004      0.397467  -0.397467   \n",
       "24      17.541012                   0    0.000002      0.241045  -0.241045   \n",
       "25      18.256971                   1    0.000001      0.146182   0.853818   \n",
       "\n",
       "    (n_i-np_i)^2  (n_i - np_i)^2/np_i  \n",
       "0    2451.147183             0.062284  \n",
       "1    8946.052499             0.374836  \n",
       "2     396.865137             0.027419  \n",
       "3    2330.089143             0.265455  \n",
       "4     126.910895             0.023841  \n",
       "5    6037.064069             1.870043  \n",
       "6    1076.346951             0.549772  \n",
       "7      28.250395             0.023794  \n",
       "8     325.760399             0.452414  \n",
       "9      86.963522             0.199149  \n",
       "10     14.606767             0.055157  \n",
       "11      5.752405             0.035818  \n",
       "12     11.539910             0.118483  \n",
       "13     15.471891             0.261940  \n",
       "14     26.822054             0.748780  \n",
       "15      2.971116             0.136768  \n",
       "16      1.379127             0.104683  \n",
       "17      3.958546             0.495462  \n",
       "18      0.714548             0.147472  \n",
       "19      1.126900             0.383502  \n",
       "20      0.611561             0.343183  \n",
       "21      0.006514             0.006028  \n",
       "22      0.429547             0.655398  \n",
       "23      0.157980             0.397467  \n",
       "24      0.058102             0.241045  \n",
       "25      0.729006             4.986980  "
      ]
     },
     "execution_count": 61,
     "metadata": {},
     "output_type": "execute_result"
    }
   ],
   "source": [
    "df_exp"
   ]
  },
  {
   "cell_type": "code",
   "execution_count": 62,
   "metadata": {},
   "outputs": [
    {
     "data": {
      "text/plain": [
       "0.9999882048214906"
      ]
     },
     "execution_count": 62,
     "metadata": {},
     "output_type": "execute_result"
    }
   ],
   "source": [
    "df_exp['Theor_prob'].sum()"
   ]
  },
  {
   "cell_type": "code",
   "execution_count": 63,
   "metadata": {},
   "outputs": [
    {
     "name": "stdout",
     "output_type": "stream",
     "text": [
      "12.967173452494782\n"
     ]
    }
   ],
   "source": [
    "chi_squared_exp = df_exp['(n_i - np_i)^2/np_i'].sum()\n",
    "print(chi_squared_exp)"
   ]
  },
  {
   "cell_type": "code",
   "execution_count": 64,
   "metadata": {},
   "outputs": [
    {
     "data": {
      "text/plain": [
       "24"
      ]
     },
     "execution_count": 64,
     "metadata": {},
     "output_type": "execute_result"
    }
   ],
   "source": [
    "df_exp['number_in_interval'].count()-2"
   ]
  },
  {
   "cell_type": "code",
   "execution_count": null,
   "metadata": {},
   "outputs": [],
   "source": []
  }
 ],
 "metadata": {
  "kernelspec": {
   "display_name": "Python 3",
   "language": "python",
   "name": "python3"
  },
  "language_info": {
   "codemirror_mode": {
    "name": "ipython",
    "version": 3
   },
   "file_extension": ".py",
   "mimetype": "text/x-python",
   "name": "python",
   "nbconvert_exporter": "python",
   "pygments_lexer": "ipython3",
   "version": "3.7.4"
  }
 },
 "nbformat": 4,
 "nbformat_minor": 2
}

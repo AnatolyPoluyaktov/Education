{
 "cells": [
  {
   "cell_type": "code",
   "execution_count": 3,
   "metadata": {},
   "outputs": [],
   "source": [
    "import math\n",
    "import numpy as np\n",
    "import matplotlib.pyplot as plt\n",
    "import seaborn as sns\n",
    "from scipy.stats import expon\n",
    "def exp_m(n,lam):\n",
    "    T_m = []\n",
    "    la = lam\n",
    "    for i in range(n):\n",
    "        T = np.random.random_sample() #случайная величина из равномерного распределения\n",
    "        xi = -math.log(T)/la #случайная величина распределенная экспоненциально(получена с помощью обратной функции)\n",
    "        T_m.append(xi)\n",
    "    return(T_m)"
   ]
  },
  {
   "cell_type": "code",
   "execution_count": 4,
   "metadata": {},
   "outputs": [],
   "source": [
    "sample_X=exp_m(1000,0.7) # выборка"
   ]
  },
  {
   "cell_type": "code",
   "execution_count": 5,
   "metadata": {},
   "outputs": [],
   "source": [
    "# для построения ECDF используем библиотеку statsmodels\n",
    "from statsmodels.distributions.empirical_distribution import ECDF\n",
    "ecdf=ECDF(sample_X) \n",
    "sample_Y=ecdf.y # получили значения эмпирической функции"
   ]
  },
  {
   "cell_type": "code",
   "execution_count": 6,
   "metadata": {},
   "outputs": [],
   "source": [
    "lamb=0.7\n",
    "def cdfexp(lamb,x):\n",
    "    return (1-np.exp(-lamb*x)) # теоретическая функция распределения\n",
    "\n",
    "variation_series=sorted(sample_X) # вариационный ряд"
   ]
  },
  {
   "cell_type": "code",
   "execution_count": 7,
   "metadata": {},
   "outputs": [
    {
     "data": {
      "text/plain": [
       "0.01829710514893501"
      ]
     },
     "execution_count": 7,
     "metadata": {},
     "output_type": "execute_result"
    }
   ],
   "source": [
    "n = len(variation_series) # объем\n",
    "tmp=[] \n",
    "tmp1=[]\n",
    "#вычислю Dn=max(D+,D-)\n",
    "for i in range(n):\n",
    "    k=i+1\n",
    "    tmp.append( (k/n)- cdfexp(lamb, variation_series[i]))\n",
    "    tmp1.append(cdfexp(lamb,variation_series[i])-(k-1/n))\n",
    "Dplus=max(tmp)\n",
    "Dminus=max(tmp1)\n",
    "Dn=max(Dplus,Dminus)\n",
    "Dn"
   ]
  },
  {
   "cell_type": "code",
   "execution_count": 8,
   "metadata": {},
   "outputs": [],
   "source": [
    "#Поправка Большева\n",
    "S=(6*n*Dn+1)/(6*np.sqrt(n))\n"
   ]
  },
  {
   "cell_type": "code",
   "execution_count": 9,
   "metadata": {},
   "outputs": [
    {
     "data": {
      "text/plain": [
       "0.5838757313492374"
      ]
     },
     "execution_count": 9,
     "metadata": {},
     "output_type": "execute_result"
    }
   ],
   "source": [
    "S"
   ]
  },
  {
   "cell_type": "code",
   "execution_count": 10,
   "metadata": {},
   "outputs": [
    {
     "data": {
      "text/plain": [
       "0.5786052685822901"
      ]
     },
     "execution_count": 10,
     "metadata": {},
     "output_type": "execute_result"
    }
   ],
   "source": [
    "Dn*np.sqrt(n)"
   ]
  }
 ],
 "metadata": {
  "kernelspec": {
   "display_name": "Python 3",
   "language": "python",
   "name": "python3"
  },
  "language_info": {
   "codemirror_mode": {
    "name": "ipython",
    "version": 3
   },
   "file_extension": ".py",
   "mimetype": "text/x-python",
   "name": "python",
   "nbconvert_exporter": "python",
   "pygments_lexer": "ipython3",
   "version": "3.7.4"
  }
 },
 "nbformat": 4,
 "nbformat_minor": 2
}

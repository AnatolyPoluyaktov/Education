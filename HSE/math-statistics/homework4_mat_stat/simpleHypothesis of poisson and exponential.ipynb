{
 "cells": [
  {
   "cell_type": "markdown",
   "metadata": {},
   "source": [
    "## $\\chi^2$ "
   ]
  },
  {
   "cell_type": "markdown",
   "metadata": {},
   "source": [
    "__Lets generate Poisson sample of different ${\\bf{n}}$ with ${\\bf{\\lambda = 5}}$:__\n"
   ]
  },
  {
   "cell_type": "code",
   "execution_count": 47,
   "metadata": {
    "ExecuteTime": {
     "end_time": "2019-12-13T18:20:14.423653Z",
     "start_time": "2019-12-13T18:20:02.282035Z"
    }
   },
   "outputs": [],
   "source": [
    "from scipy.stats import laplace,poisson\n",
    "import matplotlib.pyplot as plt\n",
    "import numpy as np\n",
    "import matplotlib.pylab as pylab\n",
    "import seaborn as sns\n",
    "sns.set()\n",
    "import pandas as pd \n",
    "import scipy.stats as sts\n",
    "import math"
   ]
  },
  {
   "cell_type": "code",
   "execution_count": 48,
   "metadata": {
    "ExecuteTime": {
     "end_time": "2019-12-13T19:53:17.889082Z",
     "start_time": "2019-12-13T19:53:17.885122Z"
    }
   },
   "outputs": [],
   "source": [
    "p_lambda = 5\n"
   ]
  },
  {
   "cell_type": "markdown",
   "metadata": {},
   "source": [
    "Let's get unique values and their frequency"
   ]
  },
  {
   "cell_type": "code",
   "execution_count": 49,
   "metadata": {
    "ExecuteTime": {
     "end_time": "2019-12-13T19:54:45.195183Z",
     "start_time": "2019-12-13T19:54:45.171266Z"
    }
   },
   "outputs": [
    {
     "name": "stdout",
     "output_type": "stream",
     "text": [
      "22.492073309952232\n",
      "11\n"
     ]
    },
    {
     "data": {
      "text/html": [
       "<div>\n",
       "<style scoped>\n",
       "    .dataframe tbody tr th:only-of-type {\n",
       "        vertical-align: middle;\n",
       "    }\n",
       "\n",
       "    .dataframe tbody tr th {\n",
       "        vertical-align: top;\n",
       "    }\n",
       "\n",
       "    .dataframe thead th {\n",
       "        text-align: right;\n",
       "    }\n",
       "</style>\n",
       "<table border=\"1\" class=\"dataframe\">\n",
       "  <thead>\n",
       "    <tr style=\"text-align: right;\">\n",
       "      <th></th>\n",
       "      <th>k</th>\n",
       "      <th>n_k</th>\n",
       "      <th>pbility_k</th>\n",
       "      <th>npbility_k</th>\n",
       "      <th>xi</th>\n",
       "    </tr>\n",
       "  </thead>\n",
       "  <tbody>\n",
       "    <tr>\n",
       "      <td>1</td>\n",
       "      <td>1</td>\n",
       "      <td>21</td>\n",
       "      <td>0.033690</td>\n",
       "      <td>33.656045</td>\n",
       "      <td>4.759189</td>\n",
       "    </tr>\n",
       "    <tr>\n",
       "      <td>2</td>\n",
       "      <td>2</td>\n",
       "      <td>79</td>\n",
       "      <td>0.084224</td>\n",
       "      <td>84.140113</td>\n",
       "      <td>0.314009</td>\n",
       "    </tr>\n",
       "    <tr>\n",
       "      <td>3</td>\n",
       "      <td>3</td>\n",
       "      <td>117</td>\n",
       "      <td>0.140374</td>\n",
       "      <td>140.233522</td>\n",
       "      <td>3.849269</td>\n",
       "    </tr>\n",
       "    <tr>\n",
       "      <td>4</td>\n",
       "      <td>4</td>\n",
       "      <td>167</td>\n",
       "      <td>0.175467</td>\n",
       "      <td>175.291902</td>\n",
       "      <td>0.392235</td>\n",
       "    </tr>\n",
       "    <tr>\n",
       "      <td>5</td>\n",
       "      <td>5</td>\n",
       "      <td>184</td>\n",
       "      <td>0.175467</td>\n",
       "      <td>175.291902</td>\n",
       "      <td>0.432598</td>\n",
       "    </tr>\n",
       "    <tr>\n",
       "      <td>6</td>\n",
       "      <td>6</td>\n",
       "      <td>167</td>\n",
       "      <td>0.146223</td>\n",
       "      <td>146.076585</td>\n",
       "      <td>2.996985</td>\n",
       "    </tr>\n",
       "    <tr>\n",
       "      <td>7</td>\n",
       "      <td>7</td>\n",
       "      <td>127</td>\n",
       "      <td>0.104445</td>\n",
       "      <td>104.340418</td>\n",
       "      <td>4.920976</td>\n",
       "    </tr>\n",
       "    <tr>\n",
       "      <td>8</td>\n",
       "      <td>8</td>\n",
       "      <td>75</td>\n",
       "      <td>0.065278</td>\n",
       "      <td>65.212761</td>\n",
       "      <td>1.468885</td>\n",
       "    </tr>\n",
       "    <tr>\n",
       "      <td>9</td>\n",
       "      <td>9</td>\n",
       "      <td>34</td>\n",
       "      <td>0.036266</td>\n",
       "      <td>36.229312</td>\n",
       "      <td>0.137177</td>\n",
       "    </tr>\n",
       "    <tr>\n",
       "      <td>10</td>\n",
       "      <td>10</td>\n",
       "      <td>13</td>\n",
       "      <td>0.018133</td>\n",
       "      <td>18.114656</td>\n",
       "      <td>1.444118</td>\n",
       "    </tr>\n",
       "    <tr>\n",
       "      <td>11</td>\n",
       "      <td>11</td>\n",
       "      <td>12</td>\n",
       "      <td>0.008242</td>\n",
       "      <td>8.233935</td>\n",
       "      <td>1.722536</td>\n",
       "    </tr>\n",
       "    <tr>\n",
       "      <td>12</td>\n",
       "      <td>12</td>\n",
       "      <td>3</td>\n",
       "      <td>0.003434</td>\n",
       "      <td>3.430806</td>\n",
       "      <td>0.054096</td>\n",
       "    </tr>\n",
       "  </tbody>\n",
       "</table>\n",
       "</div>"
      ],
      "text/plain": [
       "     k  n_k  pbility_k  npbility_k        xi\n",
       "1    1   21   0.033690   33.656045  4.759189\n",
       "2    2   79   0.084224   84.140113  0.314009\n",
       "3    3  117   0.140374  140.233522  3.849269\n",
       "4    4  167   0.175467  175.291902  0.392235\n",
       "5    5  184   0.175467  175.291902  0.432598\n",
       "6    6  167   0.146223  146.076585  2.996985\n",
       "7    7  127   0.104445  104.340418  4.920976\n",
       "8    8   75   0.065278   65.212761  1.468885\n",
       "9    9   34   0.036266   36.229312  0.137177\n",
       "10  10   13   0.018133   18.114656  1.444118\n",
       "11  11   12   0.008242    8.233935  1.722536\n",
       "12  12    3   0.003434    3.430806  0.054096"
      ]
     },
     "execution_count": 49,
     "metadata": {},
     "output_type": "execute_result"
    }
   ],
   "source": [
    "sample_1000 = poisson.rvs(p_lambda, size=1000)\n",
    "UniqueVal, CountFreq = np.unique(sample_1000, return_counts = True)\n",
    "df = pd.DataFrame({'k': UniqueVal,'n_k':CountFreq})\n",
    "def probs_pois(x):\n",
    "    d = list(map(lambda z: ((5**z* np.exp(-5))/math.factorial(z)),x))\n",
    "    return d\n",
    "df['pbility_k'] = probs_pois(UniqueVal)\n",
    "indexNam = df[df['n_k']<0.002*(df['n_k'].sum())].index\n",
    "df.drop(indexNam , inplace=True)\n",
    "df['npbility_k'] = df['n_k'].sum()*df['pbility_k']\n",
    "df['xi'] = (df['n_k']-df['npbility_k'])**2/df['npbility_k']\n",
    "print(df['xi'].sum())\n",
    "print(len(df['k'])- 1 )\n",
    "df"
   ]
  },
  {
   "cell_type": "markdown",
   "metadata": {},
   "source": [
    "10000"
   ]
  },
  {
   "cell_type": "code",
   "execution_count": 53,
   "metadata": {
    "ExecuteTime": {
     "end_time": "2019-12-13T19:48:49.752158Z",
     "start_time": "2019-12-13T19:48:49.728222Z"
    },
    "scrolled": false
   },
   "outputs": [
    {
     "name": "stdout",
     "output_type": "stream",
     "text": [
      "14.179275018179702\n",
      "12\n"
     ]
    },
    {
     "data": {
      "text/html": [
       "<div>\n",
       "<style scoped>\n",
       "    .dataframe tbody tr th:only-of-type {\n",
       "        vertical-align: middle;\n",
       "    }\n",
       "\n",
       "    .dataframe tbody tr th {\n",
       "        vertical-align: top;\n",
       "    }\n",
       "\n",
       "    .dataframe thead th {\n",
       "        text-align: right;\n",
       "    }\n",
       "</style>\n",
       "<table border=\"1\" class=\"dataframe\">\n",
       "  <thead>\n",
       "    <tr style=\"text-align: right;\">\n",
       "      <th></th>\n",
       "      <th>k</th>\n",
       "      <th>n_k</th>\n",
       "      <th>pbility_k</th>\n",
       "      <th>npbility_k</th>\n",
       "      <th>xi</th>\n",
       "    </tr>\n",
       "  </thead>\n",
       "  <tbody>\n",
       "    <tr>\n",
       "      <td>0</td>\n",
       "      <td>0</td>\n",
       "      <td>62</td>\n",
       "      <td>0.006738</td>\n",
       "      <td>67.285139</td>\n",
       "      <td>0.415139</td>\n",
       "    </tr>\n",
       "    <tr>\n",
       "      <td>1</td>\n",
       "      <td>1</td>\n",
       "      <td>343</td>\n",
       "      <td>0.033690</td>\n",
       "      <td>336.425694</td>\n",
       "      <td>0.128473</td>\n",
       "    </tr>\n",
       "    <tr>\n",
       "      <td>2</td>\n",
       "      <td>2</td>\n",
       "      <td>869</td>\n",
       "      <td>0.084224</td>\n",
       "      <td>841.064234</td>\n",
       "      <td>0.927880</td>\n",
       "    </tr>\n",
       "    <tr>\n",
       "      <td>3</td>\n",
       "      <td>3</td>\n",
       "      <td>1354</td>\n",
       "      <td>0.140374</td>\n",
       "      <td>1401.773724</td>\n",
       "      <td>1.628172</td>\n",
       "    </tr>\n",
       "    <tr>\n",
       "      <td>4</td>\n",
       "      <td>4</td>\n",
       "      <td>1860</td>\n",
       "      <td>0.175467</td>\n",
       "      <td>1752.217155</td>\n",
       "      <td>6.629967</td>\n",
       "    </tr>\n",
       "    <tr>\n",
       "      <td>5</td>\n",
       "      <td>5</td>\n",
       "      <td>1764</td>\n",
       "      <td>0.175467</td>\n",
       "      <td>1752.217155</td>\n",
       "      <td>0.079234</td>\n",
       "    </tr>\n",
       "    <tr>\n",
       "      <td>6</td>\n",
       "      <td>6</td>\n",
       "      <td>1437</td>\n",
       "      <td>0.146223</td>\n",
       "      <td>1460.180962</td>\n",
       "      <td>0.368007</td>\n",
       "    </tr>\n",
       "    <tr>\n",
       "      <td>7</td>\n",
       "      <td>7</td>\n",
       "      <td>1045</td>\n",
       "      <td>0.104445</td>\n",
       "      <td>1042.986401</td>\n",
       "      <td>0.003887</td>\n",
       "    </tr>\n",
       "    <tr>\n",
       "      <td>8</td>\n",
       "      <td>8</td>\n",
       "      <td>614</td>\n",
       "      <td>0.065278</td>\n",
       "      <td>651.866501</td>\n",
       "      <td>2.199640</td>\n",
       "    </tr>\n",
       "    <tr>\n",
       "      <td>9</td>\n",
       "      <td>9</td>\n",
       "      <td>339</td>\n",
       "      <td>0.036266</td>\n",
       "      <td>362.148056</td>\n",
       "      <td>1.479595</td>\n",
       "    </tr>\n",
       "    <tr>\n",
       "      <td>10</td>\n",
       "      <td>10</td>\n",
       "      <td>181</td>\n",
       "      <td>0.018133</td>\n",
       "      <td>181.074028</td>\n",
       "      <td>0.000030</td>\n",
       "    </tr>\n",
       "    <tr>\n",
       "      <td>11</td>\n",
       "      <td>11</td>\n",
       "      <td>86</td>\n",
       "      <td>0.008242</td>\n",
       "      <td>82.306376</td>\n",
       "      <td>0.165757</td>\n",
       "    </tr>\n",
       "    <tr>\n",
       "      <td>12</td>\n",
       "      <td>12</td>\n",
       "      <td>32</td>\n",
       "      <td>0.003434</td>\n",
       "      <td>34.294323</td>\n",
       "      <td>0.153492</td>\n",
       "    </tr>\n",
       "  </tbody>\n",
       "</table>\n",
       "</div>"
      ],
      "text/plain": [
       "     k   n_k  pbility_k   npbility_k        xi\n",
       "0    0    62   0.006738    67.285139  0.415139\n",
       "1    1   343   0.033690   336.425694  0.128473\n",
       "2    2   869   0.084224   841.064234  0.927880\n",
       "3    3  1354   0.140374  1401.773724  1.628172\n",
       "4    4  1860   0.175467  1752.217155  6.629967\n",
       "5    5  1764   0.175467  1752.217155  0.079234\n",
       "6    6  1437   0.146223  1460.180962  0.368007\n",
       "7    7  1045   0.104445  1042.986401  0.003887\n",
       "8    8   614   0.065278   651.866501  2.199640\n",
       "9    9   339   0.036266   362.148056  1.479595\n",
       "10  10   181   0.018133   181.074028  0.000030\n",
       "11  11    86   0.008242    82.306376  0.165757\n",
       "12  12    32   0.003434    34.294323  0.153492"
      ]
     },
     "execution_count": 53,
     "metadata": {},
     "output_type": "execute_result"
    }
   ],
   "source": [
    "sample_10000 = poisson.rvs(p_lambda, size=10000)\n",
    "UniqueVal, CountFreq = np.unique(sample_10000, return_counts = True)\n",
    "df = pd.DataFrame({'k': UniqueVal,'n_k':CountFreq})\n",
    "\n",
    "def probs_pois(x):\n",
    "    d = list(map(lambda z: ((5**z* np.exp(-5))/math.factorial(z)),x))\n",
    "    return d\n",
    "\n",
    "df['pbility_k'] = probs_pois(UniqueVal)\n",
    "indexNam = df[df['n_k']<0.001*(df['n_k'].sum())].index\n",
    "df.drop(indexNam , inplace=True)\n",
    "df['npbility_k'] = df['n_k'].sum()*df['pbility_k']\n",
    "df['xi'] = (df['n_k']-df['npbility_k'])**2/df['npbility_k']\n",
    "print(df['xi'].sum())\n",
    "print(len(df['k'])- 1 )\n",
    "df "
   ]
  },
  {
   "cell_type": "markdown",
   "metadata": {},
   "source": [
    "100000"
   ]
  },
  {
   "cell_type": "code",
   "execution_count": 54,
   "metadata": {
    "ExecuteTime": {
     "end_time": "2019-12-13T19:57:04.940737Z",
     "start_time": "2019-12-13T19:57:04.902839Z"
    }
   },
   "outputs": [
    {
     "name": "stdout",
     "output_type": "stream",
     "text": [
      "10.323462701205685\n",
      "13\n"
     ]
    },
    {
     "data": {
      "text/html": [
       "<div>\n",
       "<style scoped>\n",
       "    .dataframe tbody tr th:only-of-type {\n",
       "        vertical-align: middle;\n",
       "    }\n",
       "\n",
       "    .dataframe tbody tr th {\n",
       "        vertical-align: top;\n",
       "    }\n",
       "\n",
       "    .dataframe thead th {\n",
       "        text-align: right;\n",
       "    }\n",
       "</style>\n",
       "<table border=\"1\" class=\"dataframe\">\n",
       "  <thead>\n",
       "    <tr style=\"text-align: right;\">\n",
       "      <th></th>\n",
       "      <th>k</th>\n",
       "      <th>n_k</th>\n",
       "      <th>pbility_k</th>\n",
       "      <th>npbility_k</th>\n",
       "      <th>xi</th>\n",
       "    </tr>\n",
       "  </thead>\n",
       "  <tbody>\n",
       "    <tr>\n",
       "      <td>0</td>\n",
       "      <td>0</td>\n",
       "      <td>691</td>\n",
       "      <td>0.006738</td>\n",
       "      <td>673.329782</td>\n",
       "      <td>0.463720</td>\n",
       "    </tr>\n",
       "    <tr>\n",
       "      <td>1</td>\n",
       "      <td>1</td>\n",
       "      <td>3364</td>\n",
       "      <td>0.033690</td>\n",
       "      <td>3366.648908</td>\n",
       "      <td>0.002084</td>\n",
       "    </tr>\n",
       "    <tr>\n",
       "      <td>2</td>\n",
       "      <td>2</td>\n",
       "      <td>8306</td>\n",
       "      <td>0.084224</td>\n",
       "      <td>8416.622270</td>\n",
       "      <td>1.453943</td>\n",
       "    </tr>\n",
       "    <tr>\n",
       "      <td>3</td>\n",
       "      <td>3</td>\n",
       "      <td>14245</td>\n",
       "      <td>0.140374</td>\n",
       "      <td>14027.703783</td>\n",
       "      <td>3.366028</td>\n",
       "    </tr>\n",
       "    <tr>\n",
       "      <td>4</td>\n",
       "      <td>4</td>\n",
       "      <td>17593</td>\n",
       "      <td>0.175467</td>\n",
       "      <td>17534.629728</td>\n",
       "      <td>0.194306</td>\n",
       "    </tr>\n",
       "    <tr>\n",
       "      <td>5</td>\n",
       "      <td>5</td>\n",
       "      <td>17463</td>\n",
       "      <td>0.175467</td>\n",
       "      <td>17534.629728</td>\n",
       "      <td>0.292611</td>\n",
       "    </tr>\n",
       "    <tr>\n",
       "      <td>6</td>\n",
       "      <td>6</td>\n",
       "      <td>14549</td>\n",
       "      <td>0.146223</td>\n",
       "      <td>14612.191440</td>\n",
       "      <td>0.273276</td>\n",
       "    </tr>\n",
       "    <tr>\n",
       "      <td>7</td>\n",
       "      <td>7</td>\n",
       "      <td>10350</td>\n",
       "      <td>0.104445</td>\n",
       "      <td>10437.279600</td>\n",
       "      <td>0.729858</td>\n",
       "    </tr>\n",
       "    <tr>\n",
       "      <td>8</td>\n",
       "      <td>8</td>\n",
       "      <td>6626</td>\n",
       "      <td>0.065278</td>\n",
       "      <td>6523.299750</td>\n",
       "      <td>1.616872</td>\n",
       "    </tr>\n",
       "    <tr>\n",
       "      <td>9</td>\n",
       "      <td>9</td>\n",
       "      <td>3622</td>\n",
       "      <td>0.036266</td>\n",
       "      <td>3624.055417</td>\n",
       "      <td>0.001166</td>\n",
       "    </tr>\n",
       "    <tr>\n",
       "      <td>10</td>\n",
       "      <td>10</td>\n",
       "      <td>1800</td>\n",
       "      <td>0.018133</td>\n",
       "      <td>1812.027708</td>\n",
       "      <td>0.079836</td>\n",
       "    </tr>\n",
       "    <tr>\n",
       "      <td>11</td>\n",
       "      <td>11</td>\n",
       "      <td>834</td>\n",
       "      <td>0.008242</td>\n",
       "      <td>823.648958</td>\n",
       "      <td>0.130085</td>\n",
       "    </tr>\n",
       "    <tr>\n",
       "      <td>12</td>\n",
       "      <td>12</td>\n",
       "      <td>341</td>\n",
       "      <td>0.003434</td>\n",
       "      <td>343.187066</td>\n",
       "      <td>0.013938</td>\n",
       "    </tr>\n",
       "    <tr>\n",
       "      <td>13</td>\n",
       "      <td>13</td>\n",
       "      <td>147</td>\n",
       "      <td>0.001321</td>\n",
       "      <td>131.995025</td>\n",
       "      <td>1.705741</td>\n",
       "    </tr>\n",
       "  </tbody>\n",
       "</table>\n",
       "</div>"
      ],
      "text/plain": [
       "     k    n_k  pbility_k    npbility_k        xi\n",
       "0    0    691   0.006738    673.329782  0.463720\n",
       "1    1   3364   0.033690   3366.648908  0.002084\n",
       "2    2   8306   0.084224   8416.622270  1.453943\n",
       "3    3  14245   0.140374  14027.703783  3.366028\n",
       "4    4  17593   0.175467  17534.629728  0.194306\n",
       "5    5  17463   0.175467  17534.629728  0.292611\n",
       "6    6  14549   0.146223  14612.191440  0.273276\n",
       "7    7  10350   0.104445  10437.279600  0.729858\n",
       "8    8   6626   0.065278   6523.299750  1.616872\n",
       "9    9   3622   0.036266   3624.055417  0.001166\n",
       "10  10   1800   0.018133   1812.027708  0.079836\n",
       "11  11    834   0.008242    823.648958  0.130085\n",
       "12  12    341   0.003434    343.187066  0.013938\n",
       "13  13    147   0.001321    131.995025  1.705741"
      ]
     },
     "execution_count": 54,
     "metadata": {},
     "output_type": "execute_result"
    }
   ],
   "source": [
    "sample_100000 = poisson.rvs(p_lambda, size=100000)\n",
    "UniqueVal, CountFreq = np.unique(sample_100000, return_counts = True)\n",
    "df = pd.DataFrame({'k': UniqueVal,'n_k':CountFreq})\n",
    "def probs_pois(x):\n",
    "    d = list(map(lambda z: ((5**z* np.exp(-5))/math.factorial(z)),x))\n",
    "    return d\n",
    "df['pbility_k'] = probs_pois(UniqueVal)\n",
    "indexNam = df[df['n_k']<0.001*(df['n_k'].sum())].index\n",
    "df.drop(indexNam , inplace=True)\n",
    "df['npbility_k'] = df['n_k'].sum()*df['pbility_k']\n",
    "df['xi'] = (df['n_k']-df['npbility_k'])**2/df['npbility_k']\n",
    "\n",
    "print(df['xi'].sum())\n",
    "print(len(df['k'])- 1 )\n",
    "\n",
    "df"
   ]
  },
  {
   "cell_type": "code",
   "execution_count": 12,
   "metadata": {
    "ExecuteTime": {
     "end_time": "2019-12-13T19:56:08.083768Z",
     "start_time": "2019-12-13T19:56:07.770407Z"
    }
   },
   "outputs": [
    {
     "data": {
      "text/plain": [
       "[<matplotlib.lines.Line2D at 0x1177b7e5508>]"
      ]
     },
     "execution_count": 12,
     "metadata": {},
     "output_type": "execute_result"
    },
    {
     "data": {
      "image/png": "[encoded data removed]",
      "text/plain": [
       "<Figure size 432x288 with 1 Axes>"
      ]
     },
     "metadata": {},
     "output_type": "display_data"
    }
   ],
   "source": [
    "pmf_10 = np.arange(poisson.ppf(0.01, p_lambda), poisson.ppf(0.99, p_lambda))\n",
    "plt.hist(sample_100000\n",
    "         ,density=True,\n",
    "               label='histogram',\n",
    "               color=\"skyblue\")\n",
    "plt.gca().plot(pmf_10,\n",
    "               poisson.pmf(pmf_10, p_lambda),\n",
    "               color='green')\n",
    "b"
   ]
  },
  {
   "cell_type": "code",
   "execution_count": 55,
   "metadata": {},
   "outputs": [],
   "source": [
    "import math\n",
    "import numpy as np\n",
    "import matplotlib.pyplot as plt\n",
    "import seaborn as sns\n",
    "\n",
    "\n",
    "def exp_m(n,lam):\n",
    "    T_m = []\n",
    "    la = lam\n",
    "    for i in range(n):\n",
    "        T = np.random.random_sample() #случайная величина из равномерного распределения\n",
    "        xi = -math.log(T)/la #случайная величина распределенная экспоненциально(получена с помощью обратной функции)\n",
    "        T_m.append(xi)\n",
    "    return(T_m)"
   ]
  },
  {
   "cell_type": "code",
   "execution_count": 56,
   "metadata": {},
   "outputs": [],
   "source": [
    "g1=exp_m(100000,0.7)"
   ]
  },
  {
   "cell_type": "code",
   "execution_count": 57,
   "metadata": {},
   "outputs": [],
   "source": [
    "hist, bin_edges = np.histogram(g1, bins = 'doane')"
   ]
  },
  {
   "cell_type": "code",
   "execution_count": 58,
   "metadata": {},
   "outputs": [
    {
     "data": {
      "text/plain": [
       "array([35830, 22546, 14799,  9534,  6035,  4076,  2520,  1662,  1077,\n",
       "         670,   417,   293,   199,   123,    67,    53,    37,    23,\n",
       "          11,    11,     6,     6,     3,     1,     0,     1],\n",
       "      dtype=int64)"
      ]
     },
     "execution_count": 58,
     "metadata": {},
     "output_type": "execute_result"
    }
   ],
   "source": [
    "hist"
   ]
  },
  {
   "cell_type": "code",
   "execution_count": 59,
   "metadata": {},
   "outputs": [
    {
     "data": {
      "text/plain": [
       "array([3.03367046e-05, 6.29649263e-01, 1.25926819e+00, 1.88888712e+00,\n",
       "       2.51850604e+00, 3.14812497e+00, 3.77774390e+00, 4.40736282e+00,\n",
       "       5.03698175e+00, 5.66660067e+00, 6.29621960e+00, 6.92583853e+00,\n",
       "       7.55545745e+00, 8.18507638e+00, 8.81469531e+00, 9.44431423e+00,\n",
       "       1.00739332e+01, 1.07035521e+01, 1.13331710e+01, 1.19627899e+01,\n",
       "       1.25924089e+01, 1.32220278e+01, 1.38516467e+01, 1.44812656e+01,\n",
       "       1.51108846e+01, 1.57405035e+01, 1.63701224e+01])"
      ]
     },
     "execution_count": 59,
     "metadata": {},
     "output_type": "execute_result"
    }
   ],
   "source": [
    "bin_edges"
   ]
  },
  {
   "cell_type": "code",
   "execution_count": 61,
   "metadata": {},
   "outputs": [],
   "source": [
    "ar = bin_edges"
   ]
  },
  {
   "cell_type": "code",
   "execution_count": 62,
   "metadata": {},
   "outputs": [],
   "source": [
    "df_exp = pd.DataFrame({'midlle_values': (ar[:-1] + ar[1:])/2})"
   ]
  },
  {
   "cell_type": "code",
   "execution_count": null,
   "metadata": {},
   "outputs": [],
   "source": []
  }
 ],
 "metadata": {
  "kernelspec": {
   "display_name": "Python 3",
   "language": "python",
   "name": "python3"
  },
  "language_info": {
   "codemirror_mode": {
    "name": "ipython",
    "version": 3
   },
   "file_extension": ".py",
   "mimetype": "text/x-python",
   "name": "python",
   "nbconvert_exporter": "python",
   "pygments_lexer": "ipython3",
   "version": "3.7.4"
  }
 },
 "nbformat": 4,
 "nbformat_minor": 2
}

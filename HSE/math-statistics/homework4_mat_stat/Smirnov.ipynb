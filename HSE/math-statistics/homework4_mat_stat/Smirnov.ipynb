{
 "cells": [
  {
   "cell_type": "code",
   "execution_count": 7,
   "metadata": {},
   "outputs": [],
   "source": [
    "import math\n",
    "import numpy as np\n",
    "import matplotlib.pyplot as plt\n",
    "import seaborn as sns\n",
    "\n",
    "\n",
    "def exp_m(size,lam):\n",
    "    T_m = []\n",
    "    la = lam\n",
    "    for i in range(n):\n",
    "        T = np.random.random_sample() #случайная величина из равномерного распределения\n",
    "        xi = -math.log(T)/la #случайная величина распределенная экспоненциально(получена с помощью обратной функции)\n",
    "        T_m.append(xi)\n",
    "    return(T_m)"
   ]
  },
  {
   "cell_type": "code",
   "execution_count": 8,
   "metadata": {},
   "outputs": [],
   "source": [
    "\n",
    "def ecdf(x, s):\n",
    "    return s[s <= x].size / s.size"
   ]
  },
  {
   "cell_type": "code",
   "execution_count": 9,
   "metadata": {},
   "outputs": [
    {
     "name": "stdout",
     "output_type": "stream",
     "text": [
      "Для  выборок: 10-10 D_n_m = 0.5, критическая = 0.6082, квантиль = 1.36, H0 принимается\n",
      "Для  выборок: 10-100 D_n_m = 0.36, критическая = 0.4511, квантиль = 1.36, H0 принимается\n",
      "Для  выборок: 10-1000 D_n_m = 0.338, критическая = 0.4322, квантиль = 1.36, H0 принимается\n",
      "Для  выборок: 10-10000 D_n_m = 0.3379, критическая = 0.4303, квантиль = 1.36, H0 принимается\n",
      "Для  выборок: 10-100000 D_n_m = 0.3371, критическая = 0.4301, квантиль = 1.36, H0 принимается\n",
      "Для  выборок: 100-10 D_n_m = 0.51, критическая = 0.4511, квантиль = 1.36, H0 отклоняется\n",
      "Для  выборок: 100-100 D_n_m = 0.17, критическая = 0.1923, квантиль = 1.36, H0 принимается\n",
      "Для  выборок: 100-1000 D_n_m = 0.096, критическая = 0.1426, квантиль = 1.36, H0 принимается\n",
      "Для  выборок: 100-10000 D_n_m = 0.1039, критическая = 0.1367, квантиль = 1.36, H0 принимается\n",
      "Для  выборок: 100-100000 D_n_m = 0.0992, критическая = 0.1361, квантиль = 1.36, H0 принимается\n",
      "Для  выборок: 1000-10 D_n_m = 0.258, критическая = 0.4322, квантиль = 1.36, H0 принимается\n",
      "Для  выборок: 1000-100 D_n_m = 0.098, критическая = 0.1426, квантиль = 1.36, H0 принимается\n",
      "Для  выборок: 1000-1000 D_n_m = 0.044, критическая = 0.0608, квантиль = 1.36, H0 принимается\n",
      "Для  выборок: 1000-10000 D_n_m = 0.0497, критическая = 0.0451, квантиль = 1.36, H0 отклоняется\n",
      "Для  выборок: 1000-100000 D_n_m = 0.0417, критическая = 0.0432, квантиль = 1.36, H0 принимается\n",
      "Для  выборок: 10000-10 D_n_m = 0.1936, критическая = 0.4303, квантиль = 1.36, H0 принимается\n",
      "Для  выборок: 10000-100 D_n_m = 0.0997, критическая = 0.1367, квантиль = 1.36, H0 принимается\n",
      "Для  выборок: 10000-1000 D_n_m = 0.027, критическая = 0.0451, квантиль = 1.36, H0 принимается\n",
      "Для  выборок: 10000-10000 D_n_m = 0.0119, критическая = 0.0192, квантиль = 1.36, H0 принимается\n",
      "Для  выборок: 10000-100000 D_n_m = 0.0098, критическая = 0.0143, квантиль = 1.36, H0 принимается\n",
      "Для  выборок: 100000-10 D_n_m = 0.2472, критическая = 0.4301, квантиль = 1.36, H0 принимается\n",
      "Для  выборок: 100000-100 D_n_m = 0.0755, критическая = 0.1361, квантиль = 1.36, H0 принимается\n",
      "Для  выборок: 100000-1000 D_n_m = 0.0147, критическая = 0.0432, квантиль = 1.36, H0 принимается\n",
      "Для  выборок: 100000-10000 D_n_m = 0.0085, критическая = 0.0143, квантиль = 1.36, H0 принимается\n",
      "Для  выборок: 100000-100000 D_n_m = 0.0031, критическая = 0.0061, квантиль = 1.36, H0 принимается\n"
     ]
    }
   ],
   "source": [
    "#quant = 0.1\n",
    "from scipy.stats import expon\n",
    "qua = 1.36\n",
    "ps = [10, 100, 1000, 10000, 100000]\n",
    "for n in range(0, 5):\n",
    "    lsp = expon.rvs(scale=5, size=ps[n])\n",
    "    for m in range(0, 5):\n",
    "        lsps = expon.rvs(scale=5, size=ps[m])\n",
    "        xx = np.arange(-1, 11, 0.001)\n",
    "        DnM = max(list(map(lambda x: abs(ecdf(x, lsp) - ecdf(x, lsps)), xx)))\n",
    "        Quant = qua * np.sqrt(1 / len(lsp) + 1 / len(lsps))\n",
    "        if DnM > Quant:\n",
    "            strs = ' H0 отклоняется'\n",
    "        else:\n",
    "            strs = ' H0 принимается'\n",
    "        print(\n",
    "            f\"Для  выборок: {len(lsp)}-{len(lsps)} D_n_m = {np.around(DnM,4)}, критическая = {np.around(Quant,4)}, квантиль = {qua},{strs}\"\n",
    "        )"
   ]
  },
  {
   "cell_type": "code",
   "execution_count": null,
   "metadata": {},
   "outputs": [],
   "source": [
    "#quant = 0.1\n",
    "from scipy.stats import expon\n",
    "qua = 1.22\n",
    "ps = [10, 100, 1000, 10000, 100000]\n",
    "for n in range(0, 5):\n",
    "    lsp = expon.rvs(scale=5, size=ps[n])\n",
    "    for m in range(0, 5):\n",
    "        lsps = expon.rvs(scale=5, size=ps[m])\n",
    "        xx = np.arange(-1, 11, 0.001)\n",
    "        DnM = max(list(map(lambda x: abs(ecdf(x, lsp) - ecdf(x, lsps)), xx)))\n",
    "        Quant = qua * np.sqrt(1 / len(lsp) + 1 / len(lsps))\n",
    "        if DnM > Quant:\n",
    "            strs = ' H0 отклоняется'\n",
    "        else:\n",
    "            strs = ' H0 принимается'\n",
    "        print(\n",
    "            f\"Для  выборок: {len(lsp)}-{len(lsps)} D_n_m = {np.around(DnM,4)}, критическая = {np.around(Quant,4)}, квантиль = {qua},{strs}\"\n",
    "        )"
   ]
  },
  {
   "cell_type": "code",
   "execution_count": null,
   "metadata": {},
   "outputs": [],
   "source": []
  },
  {
   "cell_type": "code",
   "execution_count": null,
   "metadata": {},
   "outputs": [],
   "source": []
  }
 ],
 "metadata": {
  "kernelspec": {
   "display_name": "Python 3",
   "language": "python",
   "name": "python3"
  },
  "language_info": {
   "codemirror_mode": {
    "name": "ipython",
    "version": 3
   },
   "file_extension": ".py",
   "mimetype": "text/x-python",
   "name": "python",
   "nbconvert_exporter": "python",
   "pygments_lexer": "ipython3",
   "version": "3.7.4"
  }
 },
 "nbformat": 4,
 "nbformat_minor": 2
}

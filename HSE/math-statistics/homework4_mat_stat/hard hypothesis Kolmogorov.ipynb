{
 "cells": [
  {
   "cell_type": "code",
   "execution_count": 10,
   "metadata": {},
   "outputs": [],
   "source": [
    "import math\n",
    "import numpy as np\n",
    "import matplotlib.pyplot as plt\n",
    "import seaborn as sns\n",
    "from scipy.stats import expon\n",
    "def exp_m(n,lam):\n",
    "    T_m = []\n",
    "    la = lam\n",
    "    for i in range(n):\n",
    "        T = np.random.random_sample() #случайная величина из равномерного распределения\n",
    "        xi = -math.log(T)/la #случайная величина распределенная экспоненциально(получена с помощью обратной функции)\n",
    "        T_m.append(xi)\n",
    "    return(T_m)"
   ]
  },
  {
   "cell_type": "code",
   "execution_count": 11,
   "metadata": {},
   "outputs": [],
   "source": [
    "sample_X=exp_m(1000,0.7) # выборка"
   ]
  },
  {
   "cell_type": "code",
   "execution_count": 12,
   "metadata": {},
   "outputs": [],
   "source": [
    "# для построения ECDF используем библиотеку statsmodels\n",
    "from statsmodels.distributions.empirical_distribution import ECDF\n",
    "ecdf=ECDF(sample_X) \n",
    "sample_Y=ecdf.y # получили значения эмпирической функции"
   ]
  },
  {
   "cell_type": "code",
   "execution_count": 13,
   "metadata": {},
   "outputs": [
    {
     "data": {
      "text/plain": [
       "0.6935459178146277"
      ]
     },
     "execution_count": 13,
     "metadata": {},
     "output_type": "execute_result"
    }
   ],
   "source": [
    "def omp(x):\n",
    "    return np.mean(x)\n",
    "omp_exp=omp(sample_X)\n",
    "omp_exp=1/omp_exp\n",
    "omp_exp"
   ]
  },
  {
   "cell_type": "code",
   "execution_count": 14,
   "metadata": {},
   "outputs": [],
   "source": [
    "def cdfexp(lamb,x):\n",
    "    return (1-np.exp(-lamb*x)) # теоретическая функция распределения\n",
    "\n",
    "variation_series=sorted(sample_X) # вариационный ряд"
   ]
  },
  {
   "cell_type": "code",
   "execution_count": 15,
   "metadata": {},
   "outputs": [
    {
     "data": {
      "text/plain": [
       "0.015234458486570956"
      ]
     },
     "execution_count": 15,
     "metadata": {},
     "output_type": "execute_result"
    }
   ],
   "source": [
    "n = len(variation_series) # объем\n",
    "tmp=[] \n",
    "tmp1=[]\n",
    "#вычислю Dn=max(D+,D-)\n",
    "for i in range(n):\n",
    "    k=i+1\n",
    "    tmp.append( (k/n)- cdfexp(omp_exp, variation_series[i]))\n",
    "    tmp1.append(cdfexp(omp_exp,variation_series[i])-(k-1/n))\n",
    "Dplus=max(tmp)\n",
    "Dminus=max(tmp1)\n",
    "Dn=max(Dplus,Dminus)\n",
    "Dn"
   ]
  },
  {
   "cell_type": "code",
   "execution_count": 16,
   "metadata": {},
   "outputs": [
    {
     "data": {
      "text/plain": [
       "0.4870263401354064"
      ]
     },
     "execution_count": 16,
     "metadata": {},
     "output_type": "execute_result"
    }
   ],
   "source": [
    "#Поправка Большева\n",
    "S=(6*n*Dn+1)/(6*np.sqrt(n))\n",
    "S"
   ]
  },
  {
   "cell_type": "code",
   "execution_count": 17,
   "metadata": {},
   "outputs": [
    {
     "data": {
      "text/plain": [
       "0.48175587736845915"
      ]
     },
     "execution_count": 17,
     "metadata": {},
     "output_type": "execute_result"
    }
   ],
   "source": [
    "Dn*np.sqrt(n)"
   ]
  },
  {
   "cell_type": "code",
   "execution_count": null,
   "metadata": {},
   "outputs": [],
   "source": []
  }
 ],
 "metadata": {
  "kernelspec": {
   "display_name": "Python 3",
   "language": "python",
   "name": "python3"
  },
  "language_info": {
   "codemirror_mode": {
    "name": "ipython",
    "version": 3
   },
   "file_extension": ".py",
   "mimetype": "text/x-python",
   "name": "python",
   "nbconvert_exporter": "python",
   "pygments_lexer": "ipython3",
   "version": "3.7.4"
  }
 },
 "nbformat": 4,
 "nbformat_minor": 2
}

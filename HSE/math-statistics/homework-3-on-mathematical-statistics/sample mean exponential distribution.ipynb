{
 "cells": [
  {
   "cell_type": "markdown",
   "metadata": {},
   "source": [
    "# выборочное среднее экспоненциального распределения"
   ]
  },
  {
   "cell_type": "code",
   "execution_count": 6,
   "metadata": {},
   "outputs": [
    {
     "name": "stdout",
     "output_type": "stream",
     "text": [
      "0.016878067651073424 0.08834557913465722 0.26191109199835383 0.33764033754668427 0.8875490978261503\n"
     ]
    }
   ],
   "source": [
    "import numpy as np\n",
    "import math\n",
    "def RandomExponetialVariable(lambd):# фиксированная лямбда\n",
    "    U =  np.random.uniform(0,1)# случайная величина из нормального распределения \n",
    "    X = (-1)*(1/lambd)*math.log(1-U)# обратная функкция от выборки \n",
    "    return X #случайная величина экспоненциального распределения\n",
    "# зафиксирую лямбду\n",
    "lamb = 5\n",
    "sample = []\n",
    "#Сгенерирую выборку 1000 элемента\n",
    "for i in range(5):\n",
    "    sample.append(RandomExponetialVariable(lamb))\n",
    "sample.sort()\n",
    "print(*sample)"
   ]
  },
  {
   "cell_type": "code",
   "execution_count": 8,
   "metadata": {},
   "outputs": [
    {
     "data": {
      "text/plain": [
       "0.31846483483138377"
      ]
     },
     "execution_count": 8,
     "metadata": {},
     "output_type": "execute_result"
    }
   ],
   "source": [
    "s=set(sample)\n",
    "lst=list(sample)\n",
    "d=dict()\n",
    "for i in s:\n",
    "    d[i]=lst.count(i)\n",
    "ans=0\n",
    "for key, value in d.items():\n",
    "    ans+=key*value\n",
    "ans/len(sample)"
   ]
  }
 ],
 "metadata": {
  "kernelspec": {
   "display_name": "Python 3",
   "language": "python",
   "name": "python3"
  },
  "language_info": {
   "codemirror_mode": {
    "name": "ipython",
    "version": 3
   },
   "file_extension": ".py",
   "mimetype": "text/x-python",
   "name": "python",
   "nbconvert_exporter": "python",
   "pygments_lexer": "ipython3",
   "version": "3.7.4"
  }
 },
 "nbformat": 4,
 "nbformat_minor": 2
}

{
 "cells": [
  {
   "cell_type": "markdown",
   "metadata": {},
   "source": [
    "# Выборочная дисперсия для экспоненциального распределения\n"
   ]
  },
  {
   "cell_type": "code",
   "execution_count": 26,
   "metadata": {},
   "outputs": [],
   "source": [
    "import numpy as np\n",
    "import math\n",
    "def RandomExponetialVariable(lambd):# фиксированная лямбда\n",
    "    U =  np.random.uniform(0,1)# случайная величина из нормального распределения \n",
    "    X = (-1)*(1/lambd)*math.log(1-U)# обратная функкция от выборки\n",
    "    X=round(X,5)\n",
    "    return X #случайная величина экспоненциального распределения\n",
    "# зафиксирую лямбду\n",
    "lamb = 5\n",
    "sample = []\n",
    "#Сгенерирую выборку 1000 элемента\n",
    "for i in range(100000):\n",
    "    sample.append(RandomExponetialVariable(lamb))\n",
    "sample.sort()\n"
   ]
  },
  {
   "cell_type": "code",
   "execution_count": 27,
   "metadata": {},
   "outputs": [],
   "source": [
    "X=round(sum(sample)/len(sample),5)"
   ]
  },
  {
   "cell_type": "code",
   "execution_count": 28,
   "metadata": {},
   "outputs": [
    {
     "data": {
      "text/plain": [
       "0.0401"
      ]
     },
     "execution_count": 28,
     "metadata": {},
     "output_type": "execute_result"
    }
   ],
   "source": [
    "s=0\n",
    "for i in sample:\n",
    "     s+=(i-X)**2\n",
    "round(s/(len(sample)-1),5)"
   ]
  }
 ],
 "metadata": {
  "kernelspec": {
   "display_name": "Python 3",
   "language": "python",
   "name": "python3"
  },
  "language_info": {
   "codemirror_mode": {
    "name": "ipython",
    "version": 3
   },
   "file_extension": ".py",
   "mimetype": "text/x-python",
   "name": "python",
   "nbconvert_exporter": "python",
   "pygments_lexer": "ipython3",
   "version": "3.7.4"
  }
 },
 "nbformat": 4,
 "nbformat_minor": 2
}

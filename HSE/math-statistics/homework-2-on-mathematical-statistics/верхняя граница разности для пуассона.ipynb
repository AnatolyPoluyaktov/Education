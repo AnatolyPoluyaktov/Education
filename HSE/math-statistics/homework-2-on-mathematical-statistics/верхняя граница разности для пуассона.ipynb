{
 "cells": [
  {
   "cell_type": "code",
   "execution_count": null,
   "metadata": {},
   "outputs": [],
   "source": [
    "import numpy as np\n",
    "from statsmodels.distributions.empirical_distribution import ECDF\n",
    "import matplotlib.pyplot as plt\n",
    "import scipy.stats as sts\n",
    "poisson_rv = sts.poisson(5)\n",
    "a=poisson_rv.rvs(100000)\n",
    "sorted=np.sort(a)\n",
    "x2 = []\n",
    "y2 = []\n",
    "y = 0\n",
    "var=dict()\n",
    "k=0\n",
    "for x in sorted:\n",
    "    if x in var.keys():\n",
    "        var[x]+=1\n",
    "    else:\n",
    "        var[x]=1\n",
    "for key,val in var.items():\n",
    "    k+=(1*val)/len(a)\n",
    "    x2.append(key)\n",
    "    y2.append(k)\n",
    "poisson_rv1 = sts.poisson(5)\n",
    "a1=poisson_rv1.rvs(100000)\n",
    "sorted1=np.sort(a1)\n",
    "x3=  []\n",
    "y3= []\n",
    "y = 0\n",
    "var1=dict()\n",
    "k=0\n",
    "for x in sorted1:\n",
    "    if x in var1.keys():\n",
    "        var1[x]+=1\n",
    "    else:\n",
    "        var1[x]=1\n",
    "for key,val in var1.items():\n",
    "    k+=(1*val)/len(a1)\n",
    "    x3.append(key)\n",
    "    y3.append(k)\n",
    "b=zip(x2,y2)\n",
    "n=zip(x3,y3)\n",
    "q=dict()\n",
    "ans=[]\n",
    "for i in b:\n",
    "    q[i[0]]=i[1]\n",
    "for i in n:\n",
    "    if i[0] in q.keys():\n",
    "        #print(q[i[0]],i[1])\n",
    "        ans.append(abs(q[i[0]]-i[1]))\n",
    "max(ans)"
   ]
  }
 ],
 "metadata": {
  "kernelspec": {
   "display_name": "Python 3",
   "language": "python",
   "name": "python3"
  },
  "language_info": {
   "codemirror_mode": {
    "name": "ipython",
    "version": 3
   },
   "file_extension": ".py",
   "mimetype": "text/x-python",
   "name": "python",
   "nbconvert_exporter": "python",
   "pygments_lexer": "ipython3",
   "version": "3.7.4"
  }
 },
 "nbformat": 4,
 "nbformat_minor": 2
}
